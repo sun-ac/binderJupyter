{
 "cells": [
  {
   "cell_type": "markdown",
   "metadata": {},
   "source": [
    "### Matrices\n",
    "\n",
    "- A matrix is a square array of numbers arranged into rows and columns.\n",
    "- The numbers of rows and columns determine the *dimension* of the matrix.\n",
    "- Matrices with one row or one column are also referred to as *vectors*."
   ]
  },
  {
   "cell_type": "markdown",
   "metadata": {},
   "source": [
    "To create a matrix in python, we use the matrix method from numpy."
   ]
  },
  {
   "cell_type": "code",
   "execution_count": 1,
   "metadata": {},
   "outputs": [],
   "source": [
    "import numpy as np"
   ]
  },
  {
   "cell_type": "code",
   "execution_count": 2,
   "metadata": {},
   "outputs": [
    {
     "data": {
      "text/plain": [
       "matrix([[1, 2, 3],\n",
       "        [4, 5, 6]])"
      ]
     },
     "execution_count": 2,
     "metadata": {},
     "output_type": "execute_result"
    }
   ],
   "source": [
    "A = np.matrix([[1,2,3],[4,5,6]])\n",
    "A"
   ]
  },
  {
   "cell_type": "markdown",
   "metadata": {},
   "source": [
    "You can check the dimension of the matrix using:"
   ]
  },
  {
   "cell_type": "code",
   "execution_count": 3,
   "metadata": {},
   "outputs": [
    {
     "data": {
      "text/plain": [
       "(2, 3)"
      ]
     },
     "execution_count": 3,
     "metadata": {},
     "output_type": "execute_result"
    }
   ],
   "source": [
    "A.shape"
   ]
  },
  {
   "cell_type": "markdown",
   "metadata": {},
   "source": [
    "To show some of the features here, we'll work with randomly generated matrices. The recommended way to generate random numbers in numpy is by creating a Generator object:"
   ]
  },
  {
   "cell_type": "code",
   "execution_count": 4,
   "metadata": {},
   "outputs": [],
   "source": [
    "rng = np.random.default_rng(4350)"
   ]
  },
  {
   "cell_type": "markdown",
   "metadata": {},
   "source": [
    "The value passed into the method above is the *seed*, whose purpose is to enable repeatibility later. You don't need to use it if you don't care about being able to generate the same set of random numbers later. After the previous step, you can generate random numbers from a wide range of distributions. The default is to use a uniform distribution. For instance,"
   ]
  },
  {
   "cell_type": "code",
   "execution_count": 5,
   "metadata": {},
   "outputs": [
    {
     "data": {
      "text/plain": [
       "array([[0.67591613, 0.71727282, 0.31343354],\n",
       "       [0.35701195, 0.35954397, 0.73862655]])"
      ]
     },
     "execution_count": 5,
     "metadata": {},
     "output_type": "execute_result"
    }
   ],
   "source": [
    "A = rng.random((2, 3))\n",
    "A"
   ]
  },
  {
   "cell_type": "markdown",
   "metadata": {},
   "source": [
    "will generate a $2\\times 3$ matrix with each element drawn from a uniform distribution from 0(inclusive) to 1(exclusive). For a standard normal distribution, you would do:"
   ]
  },
  {
   "cell_type": "code",
   "execution_count": 6,
   "metadata": {},
   "outputs": [
    {
     "data": {
      "text/plain": [
       "array([[-0.80934359,  0.6927803 , -0.34126646],\n",
       "       [ 1.03610346, -1.06396449,  0.33426782]])"
      ]
     },
     "execution_count": 6,
     "metadata": {},
     "output_type": "execute_result"
    }
   ],
   "source": [
    "A = rng.normal(size=(2, 3))\n",
    "A"
   ]
  },
  {
   "cell_type": "markdown",
   "metadata": {},
   "source": [
    "As with other instances of normal distributions in numpy (and scipy.stats), you can use the *loc* and *scale* parameters when the mean and variance are different from their default values of 0 and 1. For a $t$-distribution with 10 degrees of freedom:"
   ]
  },
  {
   "cell_type": "code",
   "execution_count": 7,
   "metadata": {},
   "outputs": [
    {
     "data": {
      "text/plain": [
       "array([[-1.49411237,  2.99212124,  0.90912653],\n",
       "       [ 2.18040239, -0.07987556,  0.69251805]])"
      ]
     },
     "execution_count": 7,
     "metadata": {},
     "output_type": "execute_result"
    }
   ],
   "source": [
    "A = rng.standard_t(df = 10, size = (2, 3))\n",
    "A"
   ]
  },
  {
   "cell_type": "markdown",
   "metadata": {},
   "source": [
    "You get the picture. For other distributions, check out doc at https://numpy.org/doc/stable/reference/random/generator.html. Here's a larger matrix:"
   ]
  },
  {
   "cell_type": "code",
   "execution_count": 8,
   "metadata": {},
   "outputs": [
    {
     "data": {
      "text/plain": [
       "array([[ 0.75286076, -0.04357284,  0.94797273, -1.16052247],\n",
       "       [ 1.92611264, -0.83959451,  0.4876906 ,  1.18779588],\n",
       "       [-0.27256915,  0.25853973, -0.02667715, -0.09213138],\n",
       "       [-2.03049391,  0.08123684,  1.92793833, -0.6038585 ],\n",
       "       [ 1.78022766, -0.50019539,  0.30440467, -1.03754673],\n",
       "       [ 1.47234151, -0.45497693,  0.68687117, -0.62338389]])"
      ]
     },
     "execution_count": 8,
     "metadata": {},
     "output_type": "execute_result"
    }
   ],
   "source": [
    "A = rng.normal(size = (6, 4))\n",
    "A"
   ]
  },
  {
   "cell_type": "markdown",
   "metadata": {},
   "source": [
    "I'm assuming you're familiar with indexing from before. For instance, if you want to select just the second row or just the fourth column, of a slice of rows 2-3 and columns 1-2, and so on. One thing to be aware of is that the random number generator above returns an *ndarray*:"
   ]
  },
  {
   "cell_type": "code",
   "execution_count": 20,
   "metadata": {},
   "outputs": [
    {
     "data": {
      "text/plain": [
       "numpy.ndarray"
      ]
     },
     "execution_count": 20,
     "metadata": {},
     "output_type": "execute_result"
    }
   ],
   "source": [
    "type(A)"
   ]
  },
  {
   "cell_type": "markdown",
   "metadata": {},
   "source": [
    "If you want a *matrix* instead, you will have to call numpy's matrix method."
   ]
  },
  {
   "cell_type": "code",
   "execution_count": 21,
   "metadata": {},
   "outputs": [
    {
     "data": {
      "text/plain": [
       "numpy.matrix"
      ]
     },
     "execution_count": 21,
     "metadata": {},
     "output_type": "execute_result"
    }
   ],
   "source": [
    "A = np.matrix(rng.normal(size = (6, 4)))\n",
    "type(A)"
   ]
  },
  {
   "cell_type": "markdown",
   "metadata": {},
   "source": [
    "A matrix in numpy is just a special case of an array with two dimensions. There are a couple of advantages to this. One is that even a row or column vector will be identified as a matrix:"
   ]
  },
  {
   "cell_type": "code",
   "execution_count": 22,
   "metadata": {},
   "outputs": [
    {
     "data": {
      "text/plain": [
       "(1, 4)"
      ]
     },
     "execution_count": 22,
     "metadata": {},
     "output_type": "execute_result"
    }
   ],
   "source": [
    "x = np.matrix([1, 2, 3, 4])\n",
    "x.shape"
   ]
  },
  {
   "cell_type": "markdown",
   "metadata": {},
   "source": [
    "On the other hand, a row or column vector defined as an array will only have 1 dimension:"
   ]
  },
  {
   "cell_type": "code",
   "execution_count": 23,
   "metadata": {},
   "outputs": [
    {
     "data": {
      "text/plain": [
       "(4,)"
      ]
     },
     "execution_count": 23,
     "metadata": {},
     "output_type": "execute_result"
    }
   ],
   "source": [
    "np.array([1, 2, 3, 4]).shape"
   ]
  },
  {
   "cell_type": "markdown",
   "metadata": {},
   "source": [
    "This will come in handy later. The other advantage relates to matrix multiplications, which we'll see soon. For now, let's get back to a few more basic matrix operations. It's sometimes useful to transpose a matrix:"
   ]
  },
  {
   "cell_type": "code",
   "execution_count": 29,
   "metadata": {},
   "outputs": [
    {
     "data": {
      "text/plain": [
       "matrix([[-0.64658024, -0.35239317],\n",
       "        [ 1.94862999,  0.03062174],\n",
       "        [-1.62690514,  1.5745716 ],\n",
       "        [-0.01898836,  0.33320449]])"
      ]
     },
     "execution_count": 29,
     "metadata": {},
     "output_type": "execute_result"
    }
   ],
   "source": [
    "A = np.matrix(rng.normal(size = (4, 2)))\n",
    "A"
   ]
  },
  {
   "cell_type": "code",
   "execution_count": 39,
   "metadata": {},
   "outputs": [
    {
     "data": {
      "text/plain": [
       "matrix([[-3.23085769,  0.76473041,  0.99770105],\n",
       "        [-0.32760813,  0.27012219, -0.1458785 ],\n",
       "        [ 0.81238842,  0.2358943 , -0.95445777]])"
      ]
     },
     "execution_count": 39,
     "metadata": {},
     "output_type": "execute_result"
    }
   ],
   "source": [
    "A.T"
   ]
  },
  {
   "cell_type": "markdown",
   "metadata": {},
   "source": [
    "As long as two matrices are of the same shape, you can add them (element-wise):"
   ]
  },
  {
   "cell_type": "code",
   "execution_count": 33,
   "metadata": {},
   "outputs": [
    {
     "data": {
      "text/plain": [
       "matrix([[ 0.94255399,  0.41193875],\n",
       "        [ 2.02810207,  0.14035849],\n",
       "        [-0.50400848,  0.10395958],\n",
       "        [-0.48850302,  1.08518546]])"
      ]
     },
     "execution_count": 33,
     "metadata": {},
     "output_type": "execute_result"
    }
   ],
   "source": [
    "B = np.matrix(rng.normal(size = (4, 2)))\n",
    "B"
   ]
  },
  {
   "cell_type": "code",
   "execution_count": 34,
   "metadata": {},
   "outputs": [
    {
     "data": {
      "text/plain": [
       "matrix([[ 0.29597375,  0.05954559],\n",
       "        [ 3.97673206,  0.17098023],\n",
       "        [-2.13091361,  1.67853118],\n",
       "        [-0.50749138,  1.41838995]])"
      ]
     },
     "execution_count": 34,
     "metadata": {},
     "output_type": "execute_result"
    }
   ],
   "source": [
    "A + B"
   ]
  },
  {
   "cell_type": "markdown",
   "metadata": {},
   "source": [
    "The type of matrices we'll be working with are going to be **square** matrices, that is matrices with the same number of rows and columns:"
   ]
  },
  {
   "cell_type": "code",
   "execution_count": 36,
   "metadata": {},
   "outputs": [
    {
     "data": {
      "text/plain": [
       "matrix([[-3.23085769, -0.32760813,  0.81238842],\n",
       "        [ 0.76473041,  0.27012219,  0.2358943 ],\n",
       "        [ 0.99770105, -0.1458785 , -0.95445777]])"
      ]
     },
     "execution_count": 36,
     "metadata": {},
     "output_type": "execute_result"
    }
   ],
   "source": [
    "A = np.matrix(rng.normal(size = (3, 3)))\n",
    "A"
   ]
  },
  {
   "cell_type": "markdown",
   "metadata": {},
   "source": [
    "When you transpose a square matrix, you keep its shape:"
   ]
  },
  {
   "cell_type": "code",
   "execution_count": 40,
   "metadata": {},
   "outputs": [
    {
     "data": {
      "text/plain": [
       "matrix([[-3.23085769,  0.76473041,  0.99770105],\n",
       "        [-0.32760813,  0.27012219, -0.1458785 ],\n",
       "        [ 0.81238842,  0.2358943 , -0.95445777]])"
      ]
     },
     "execution_count": 40,
     "metadata": {},
     "output_type": "execute_result"
    }
   ],
   "source": [
    "A.T"
   ]
  },
  {
   "cell_type": "markdown",
   "metadata": {},
   "source": [
    "Something interesting happens when you add a square matrix to its own transpose:"
   ]
  },
  {
   "cell_type": "code",
   "execution_count": 41,
   "metadata": {},
   "outputs": [
    {
     "data": {
      "text/plain": [
       "matrix([[-6.46171538,  0.43712228,  1.81008947],\n",
       "        [ 0.43712228,  0.54024438,  0.0900158 ],\n",
       "        [ 1.81008947,  0.0900158 , -1.90891554]])"
      ]
     },
     "execution_count": 41,
     "metadata": {},
     "output_type": "execute_result"
    }
   ],
   "source": [
    "A + A.T"
   ]
  },
  {
   "cell_type": "markdown",
   "metadata": {},
   "source": [
    "Notice that the elements on the opposite sides of the diagonal are the same. This is a special type of matrix called a **symmetric** matrix and has enormous applications. Scalar multiplication works as expected:"
   ]
  },
  {
   "cell_type": "code",
   "execution_count": 42,
   "metadata": {},
   "outputs": [
    {
     "data": {
      "text/plain": [
       "matrix([[-6.46171538, -0.65521627,  1.62477684],\n",
       "        [ 1.52946083,  0.54024438,  0.4717886 ],\n",
       "        [ 1.99540211, -0.291757  , -1.90891554]])"
      ]
     },
     "execution_count": 42,
     "metadata": {},
     "output_type": "execute_result"
    }
   ],
   "source": [
    "# Multiplies each element of the matrix by 2\n",
    "2 * A "
   ]
  },
  {
   "cell_type": "markdown",
   "metadata": {},
   "source": [
    "If you have two matrices $A$ and $B$, then a special operation available to them is **matrix multiplication**, which is only possible if *the number of columns of A = the number of rows of B*. The resulting matrix will have the number of rows and $A$ and the number of columns of $B$. For instance, if $A$ is a $3\\times 4$ matrix, and $B$ is a $4\\times 2$ matrix, then matrix multiplication is feasible, and the result is a $3\\times 2$ matrix. We won't go into the depths of matrix multiplication here but here are a few basics."
   ]
  },
  {
   "cell_type": "markdown",
   "metadata": {},
   "source": [
    "If $x$ is a $1\\times 3$ matrix and $y$ is a $3\\times 1$ matrix, then the result of matrix multiplication between them is a $1\\times 1$ matrix, which is just a number. This special case is also called a *dot product*."
   ]
  },
  {
   "cell_type": "code",
   "execution_count": 43,
   "metadata": {},
   "outputs": [
    {
     "data": {
      "text/plain": [
       "matrix([[1, 2, 3]])"
      ]
     },
     "execution_count": 43,
     "metadata": {},
     "output_type": "execute_result"
    }
   ],
   "source": [
    "x = np.matrix([1, 2, 3])\n",
    "y = np.matrix([4, 5, 6]).T\n",
    "x"
   ]
  },
  {
   "cell_type": "code",
   "execution_count": 44,
   "metadata": {},
   "outputs": [
    {
     "data": {
      "text/plain": [
       "matrix([[4],\n",
       "        [5],\n",
       "        [6]])"
      ]
     },
     "execution_count": 44,
     "metadata": {},
     "output_type": "execute_result"
    }
   ],
   "source": [
    "y"
   ]
  },
  {
   "cell_type": "code",
   "execution_count": 45,
   "metadata": {},
   "outputs": [
    {
     "data": {
      "text/plain": [
       "matrix([[32]])"
      ]
     },
     "execution_count": 45,
     "metadata": {},
     "output_type": "execute_result"
    }
   ],
   "source": [
    "# matrix multiplication\n",
    "x * y"
   ]
  },
  {
   "cell_type": "markdown",
   "metadata": {},
   "source": [
    "Extending this concept, if $A$ is a $3\\times 3$ matrix, then multiplying by $y$ above will yield a $3\\times 1$ matrix:"
   ]
  },
  {
   "cell_type": "code",
   "execution_count": 46,
   "metadata": {},
   "outputs": [
    {
     "data": {
      "text/plain": [
       "matrix([[0.95649029, 0.87895095, 0.88793896],\n",
       "        [0.25557622, 0.47504743, 0.19701771],\n",
       "        [0.90502254, 0.24539179, 0.79665117]])"
      ]
     },
     "execution_count": 46,
     "metadata": {},
     "output_type": "execute_result"
    }
   ],
   "source": [
    "A = np.matrix(rng.random(size=(3,3)))\n",
    "A"
   ]
  },
  {
   "cell_type": "code",
   "execution_count": 47,
   "metadata": {},
   "outputs": [
    {
     "data": {
      "text/plain": [
       "matrix([[13.54834965],\n",
       "        [ 4.57964834],\n",
       "        [ 9.62695611]])"
      ]
     },
     "execution_count": 47,
     "metadata": {},
     "output_type": "execute_result"
    }
   ],
   "source": [
    "A * y"
   ]
  },
  {
   "cell_type": "markdown",
   "metadata": {},
   "source": [
    "What's happening here is that each row of $A$ is getting into a dot product with $y$. Each of those dot products results in a number. $A$ has 3 rows and so, the overall result is a matrix with 3 numbers. This is the extent to which we'll use matrix multiplication for now."
   ]
  },
  {
   "cell_type": "markdown",
   "metadata": {},
   "source": [
    "### Random Vectors"
   ]
  },
  {
   "cell_type": "markdown",
   "metadata": {},
   "source": [
    "- Suppose $X_1, X_2, \\ldots, X_n$ are random variables with means $\\mu_1, \\mu_2, \\ldots, \\mu_n$.\n",
    "- It is convenient to represent this information in a matrix form. We define a *random vector* $\\mathbf{X}$ as:\n",
    "\t\t$$ \\mathbf{X}=(X_{1},\\ldots,X_{n})^{T} $$\n",
    "- Correspondingly, we define the expected value of the random vector as another vector:\n",
    "$$\n",
    "\\begin{equation*}\n",
    "\\underset{n\\times1}{\\mathbf{\\mu}}=E[\\mathbf{X}]=\\left(\\begin{array}{c}\n",
    "E[X_{1}]\\\\\n",
    "\\vdots\\\\\n",
    "E[X_{n}]\n",
    "\\end{array}\\right)=\\left(\\begin{array}{c}\n",
    "\\mu_{1}\\\\\n",
    "\\vdots\\\\\n",
    "\\mu_{n}\n",
    "\\end{array}\\right)\n",
    "\\end{equation*}\n",
    "$$\n",
    "\n",
    "- And we define the *covariance matrix* as the matrix of variances and covariances arranged as:\n",
    "$$\n",
    "\\begin{equation*}\n",
    "\\underset{n\\times n}{\\Sigma}=\\left(\\begin{array}{cccc}\n",
    "\\sigma_{1}^{2} & \\sigma_{12} & \\cdots & \\sigma_{1n}\\\\\n",
    "\\sigma_{12} & \\sigma_{2}^{2} & \\cdots & \\sigma_{2n}\\\\\n",
    "\\vdots & \\vdots & \\ddots & \\vdots\\\\\n",
    "\\sigma_{1n} & \\sigma_{2n} & \\cdots & \\sigma_{n}^{2}\n",
    "\\end{array}\\right)\n",
    "\\end{equation*}\n",
    "$$\n",
    "\n",
    "- We can also define a *correlation matrix* similarly:\n",
    "$$\n",
    "\\begin{equation*}\n",
    "\\mathbf{C}=\\left(\\begin{array}{cccc}\n",
    "1 & \\rho_{12} & \\cdots\\  & \\rho_{1n}\\\\\n",
    "\\rho_{12} & 1 & \\cdots\\  & \\rho_{2n}\\\\\n",
    "\\vdots\\  & \\vdots\\  & \\ddots\\  & \\vdots\\\\\n",
    "\\rho_{1n} & \\rho_{2n} & \\cdots\\  & 1\n",
    "\\end{array}\\right)\n",
    "\\end{equation*}\n",
    "$$"
   ]
  },
  {
   "cell_type": "markdown",
   "metadata": {},
   "source": [
    "### Linear Combination of Random Variables: Matrix Edition"
   ]
  },
  {
   "cell_type": "markdown",
   "metadata": {},
   "source": [
    "- Suppose $X_1$ and $X_2$ are random variables with means $1$ and $-1$, variances $4$ and $9$ and covariance $6$.\n",
    "- Let's define two new random variables:\n",
    "$$\n",
    "\t\\begin{align*}\n",
    "\t\tY_1 &= 2X_1 + 3X_2 \\\\\n",
    "\t\tY_2 &= 2X_1 - 3X_2\n",
    "\t\\end{align*}\n",
    "$$\n",
    "- Now let's calculate:\n",
    "    - $E[Y_1]$\n",
    "    - $E[Y_2]$\n",
    "    - $\\text{var}(Y_1)$\n",
    "    - $\\text{var}(Y_2)$\n",
    "    - $\\text{cov}(Y_1, Y_2)$\n",
    "- These are much easier to solve in matrix form. We'll let $y_1$ and $y_2$ denote the coefficients of $Y_1$ and $Y_2$ in terms of the original random variables."
   ]
  },
  {
   "cell_type": "code",
   "execution_count": 51,
   "metadata": {},
   "outputs": [],
   "source": [
    "# Set up the mean vector:\n",
    "mu = np.matrix([1, -1]).T\n",
    "# Then the covariance matrix:\n",
    "Sigma = np.matrix([[4, 6], [6, 9]])\n",
    "# And finally the coefficients that represent the newly created random variables:\n",
    "y1 = np.matrix([2, 3]).T\n",
    "y2 = np.matrix([2, -3]).T"
   ]
  },
  {
   "cell_type": "code",
   "execution_count": 49,
   "metadata": {},
   "outputs": [
    {
     "data": {
      "text/plain": [
       "matrix([[ 1],\n",
       "        [-1]])"
      ]
     },
     "execution_count": 49,
     "metadata": {},
     "output_type": "execute_result"
    }
   ],
   "source": [
    "mu"
   ]
  },
  {
   "cell_type": "code",
   "execution_count": 50,
   "metadata": {},
   "outputs": [
    {
     "data": {
      "text/plain": [
       "matrix([[4, 6],\n",
       "        [6, 9]])"
      ]
     },
     "execution_count": 50,
     "metadata": {},
     "output_type": "execute_result"
    }
   ],
   "source": [
    "Sigma"
   ]
  },
  {
   "cell_type": "code",
   "execution_count": 52,
   "metadata": {},
   "outputs": [
    {
     "data": {
      "text/plain": [
       "matrix([[2],\n",
       "        [3]])"
      ]
     },
     "execution_count": 52,
     "metadata": {},
     "output_type": "execute_result"
    }
   ],
   "source": [
    "y1"
   ]
  },
  {
   "cell_type": "code",
   "execution_count": 53,
   "metadata": {},
   "outputs": [
    {
     "data": {
      "text/plain": [
       "matrix([[ 2],\n",
       "        [-3]])"
      ]
     },
     "execution_count": 53,
     "metadata": {},
     "output_type": "execute_result"
    }
   ],
   "source": [
    "y2"
   ]
  },
  {
   "cell_type": "markdown",
   "metadata": {},
   "source": [
    "- Then, $E[Y_1] = y_1^T \\cdot \\mu$\n",
    "- And $E[Y_2] = y_2^T \\cdot \\mu$"
   ]
  },
  {
   "cell_type": "code",
   "execution_count": 54,
   "metadata": {},
   "outputs": [
    {
     "data": {
      "text/plain": [
       "matrix([[-1]])"
      ]
     },
     "execution_count": 54,
     "metadata": {},
     "output_type": "execute_result"
    }
   ],
   "source": [
    "y1.T * mu"
   ]
  },
  {
   "cell_type": "code",
   "execution_count": 55,
   "metadata": {},
   "outputs": [
    {
     "data": {
      "text/plain": [
       "matrix([[5]])"
      ]
     },
     "execution_count": 55,
     "metadata": {},
     "output_type": "execute_result"
    }
   ],
   "source": [
    "y2.T * mu"
   ]
  },
  {
   "cell_type": "markdown",
   "metadata": {},
   "source": [
    "- For the variance: $\\text{var}(Y_1) = y_1^T \\cdot \\Sigma \\cdot y_1$ \n",
    "- and $\\text{var}(Y_2) = y_2^T \\cdot \\Sigma \\cdot y_2$"
   ]
  },
  {
   "cell_type": "code",
   "execution_count": 56,
   "metadata": {},
   "outputs": [
    {
     "data": {
      "text/plain": [
       "matrix([[169]])"
      ]
     },
     "execution_count": 56,
     "metadata": {},
     "output_type": "execute_result"
    }
   ],
   "source": [
    "y1.T * Sigma * y1"
   ]
  },
  {
   "cell_type": "code",
   "execution_count": 57,
   "metadata": {},
   "outputs": [
    {
     "data": {
      "text/plain": [
       "matrix([[25]])"
      ]
     },
     "execution_count": 57,
     "metadata": {},
     "output_type": "execute_result"
    }
   ],
   "source": [
    "y2.T * Sigma * y2"
   ]
  },
  {
   "cell_type": "markdown",
   "metadata": {},
   "source": [
    "- Finally, for the covariance: $\\text{cov}(Y_1, Y_2) = y_1^T \\cdot \\Sigma \\cdot y_2$"
   ]
  },
  {
   "cell_type": "code",
   "execution_count": 58,
   "metadata": {},
   "outputs": [
    {
     "data": {
      "text/plain": [
       "matrix([[-65]])"
      ]
     },
     "execution_count": 58,
     "metadata": {},
     "output_type": "execute_result"
    }
   ],
   "source": [
    "y1.T * Sigma * y2"
   ]
  },
  {
   "cell_type": "markdown",
   "metadata": {},
   "source": [
    "This was a rather simple example, of course, but you can easily see how you can extend this to more than two random variables."
   ]
  }
 ],
 "metadata": {
  "kernelspec": {
   "display_name": "fina6337",
   "language": "python",
   "name": "python3"
  },
  "language_info": {
   "codemirror_mode": {
    "name": "ipython",
    "version": 3
   },
   "file_extension": ".py",
   "mimetype": "text/x-python",
   "name": "python",
   "nbconvert_exporter": "python",
   "pygments_lexer": "ipython3",
   "version": "3.11.4"
  }
 },
 "nbformat": 4,
 "nbformat_minor": 2
}
